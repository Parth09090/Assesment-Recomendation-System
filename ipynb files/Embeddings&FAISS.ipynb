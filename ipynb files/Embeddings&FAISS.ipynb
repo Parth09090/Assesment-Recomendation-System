{
 "cells": [
  {
   "cell_type": "code",
   "execution_count": 28,
   "id": "4176493e-91a2-428d-b8b5-ade3b066a0d7",
   "metadata": {},
   "outputs": [],
   "source": [
    "import pandas as pd"
   ]
  },
  {
   "cell_type": "code",
   "execution_count": 2,
   "id": "67d40bbf-e291-4516-9992-1576797a8d50",
   "metadata": {},
   "outputs": [
    {
     "name": "stdout",
     "output_type": "stream",
     "text": [
      "Index(['Test_id', 'Test_Name', 'Test_Link', 'Remote_Testing',\n",
      "       'Adaptive_Testing', 'Test_Types', 'Description', 'Job_Levels',\n",
      "       'Languages', 'Assessment_Length'],\n",
      "      dtype='object')\n"
     ]
    }
   ],
   "source": [
    "df = pd.read_csv(\"test_data.xls\")\n",
    "print(df.columns)"
   ]
  },
  {
   "cell_type": "code",
   "execution_count": 3,
   "id": "134b8433-4c93-4a4c-b217-c554e6dd1a2e",
   "metadata": {},
   "outputs": [
    {
     "name": "stdout",
     "output_type": "stream",
     "text": [
      "   Test_id                         Test_Name  \\\n",
      "0     4302  Global Skills Development Report   \n",
      "1     3827                .NET Framework 4.5   \n",
      "2     4094                    .NET MVC (New)   \n",
      "3     4099                   .NET MVVM (New)   \n",
      "4     4018                    .NET WCF (New)   \n",
      "\n",
      "                                           Test_Link Remote_Testing  \\\n",
      "0  /solutions/products/product-catalog/view/globa...            YES   \n",
      "1  /solutions/products/product-catalog/view/net-f...            YES   \n",
      "2  /solutions/products/product-catalog/view/net-m...            YES   \n",
      "3  /solutions/products/product-catalog/view/net-m...            YES   \n",
      "4  /solutions/products/product-catalog/view/net-w...            YES   \n",
      "\n",
      "  Adaptive_Testing                                         Test_Types  \\\n",
      "0               NO  ['Ability & Aptitude', 'BioData & Situational ...   \n",
      "1              YES                             ['Knowledge & Skills']   \n",
      "2               NO                             ['Knowledge & Skills']   \n",
      "3               NO                             ['Knowledge & Skills']   \n",
      "4               NO                             ['Knowledge & Skills']   \n",
      "\n",
      "                                         Description  \\\n",
      "0  This report is designed to be given to individ...   \n",
      "1  The.NET Framework 4.5 test measures knowledge ...   \n",
      "2  Multi-choice test that measures the knowledge ...   \n",
      "3  Multi-choice test that measures the knowledge ...   \n",
      "4  Multi-choice test that measures the knowledge ...   \n",
      "\n",
      "                                          Job_Levels       Languages  \\\n",
      "0  Director, Entry-Level, Executive, General Popu...            NONE   \n",
      "1  Professional Individual Contributor, Mid-Profe...  English (USA),   \n",
      "2  Mid-Professional, Professional Individual Cont...  English (USA),   \n",
      "3  Mid-Professional, Professional Individual Cont...  English (USA),   \n",
      "4  Mid-Professional, Professional Individual Cont...  English (USA),   \n",
      "\n",
      "                             Assessment_Length  \n",
      "0                                         NONE  \n",
      "1  Approximate Completion Time in minutes = 30  \n",
      "2  Approximate Completion Time in minutes = 17  \n",
      "3   Approximate Completion Time in minutes = 5  \n",
      "4  Approximate Completion Time in minutes = 11  \n"
     ]
    }
   ],
   "source": [
    "print(df.head())"
   ]
  },
  {
   "cell_type": "code",
   "execution_count": 4,
   "id": "3e24415b-acd8-4809-8c6d-b1034b74d5cf",
   "metadata": {},
   "outputs": [
    {
     "name": "stdout",
     "output_type": "stream",
     "text": [
      "/solutions/products/product-catalog/view/global-skills-development-report/\n"
     ]
    }
   ],
   "source": [
    "print(df[\"Test_Link\"].iloc[0])"
   ]
  },
  {
   "cell_type": "markdown",
   "id": "1b64e462-4972-4433-b8ff-beb645e88e8d",
   "metadata": {},
   "source": [
    "# Data preprocessing"
   ]
  },
  {
   "cell_type": "markdown",
   "id": "d0923a94-76c1-431b-a804-6800d83daffa",
   "metadata": {},
   "source": [
    "### Adding full url to the test link"
   ]
  },
  {
   "cell_type": "code",
   "execution_count": 5,
   "id": "3d31d72d-59c5-4397-9638-34c526909e00",
   "metadata": {
    "scrolled": true
   },
   "outputs": [
    {
     "name": "stdout",
     "output_type": "stream",
     "text": [
      "https://www.shl.com/solutions/products/product-catalog/view/global-skills-development-report/\n"
     ]
    }
   ],
   "source": [
    "df[\"Test_Link\"] = df[\"Test_Link\"].apply(lambda x: \"https://www.shl.com\" + x if not x.startswith(\"https://www.shl.com\") else x)\n",
    "print(df[\"Test_Link\"].iloc[0])"
   ]
  },
  {
   "cell_type": "markdown",
   "id": "09d60c61-83cf-4f3a-be48-b893bbb497b4",
   "metadata": {},
   "source": [
    "### Handling None"
   ]
  },
  {
   "cell_type": "code",
   "execution_count": 6,
   "id": "5bd2e9b2-3638-4dac-a5f9-345b895af2e3",
   "metadata": {},
   "outputs": [],
   "source": [
    "df['Languages'] = df['Languages'].replace(\"NONE\", \"No info\")"
   ]
  },
  {
   "cell_type": "code",
   "execution_count": 7,
   "id": "131e9725-8f7e-4bd3-8b7b-bb006a64a673",
   "metadata": {},
   "outputs": [],
   "source": [
    "df.fillna(\"No info\", inplace=True)\n",
    "df.replace(\"NONE\", \"No info\", inplace=True)"
   ]
  },
  {
   "cell_type": "markdown",
   "id": "06996cbd-3cab-43a8-842a-90946b144f4b",
   "metadata": {},
   "source": [
    "### Converting list like strings to text"
   ]
  },
  {
   "cell_type": "code",
   "execution_count": 8,
   "id": "f3d97f02-6f29-4f2b-a043-6f6ab41adadf",
   "metadata": {},
   "outputs": [],
   "source": [
    "df['Test_Types'] = df['Test_Types'].apply(lambda x: ', '.join(eval(x)) if isinstance(x, str) and x.startswith(\"[\") else x)"
   ]
  },
  {
   "cell_type": "code",
   "execution_count": 9,
   "id": "288faf85-2441-40c7-a543-b583d83f1636",
   "metadata": {},
   "outputs": [],
   "source": [
    "import re\n",
    "\n",
    "def extract_duration(length_str):\n",
    "    if isinstance(length_str, str):\n",
    "        match = re.search(r'\\d+', length_str)\n",
    "        return int(match.group()) if match else None\n",
    "    return None\n"
   ]
  },
  {
   "cell_type": "code",
   "execution_count": 10,
   "id": "4127fdba-364c-406b-9c92-ee4d788cf965",
   "metadata": {},
   "outputs": [
    {
     "name": "stdout",
     "output_type": "stream",
     "text": [
      "0      No info\n",
      "1         30.0\n",
      "2         17.0\n",
      "3          5.0\n",
      "4         11.0\n",
      "        ...   \n",
      "367       12.0\n",
      "368        9.0\n",
      "369       15.0\n",
      "370       15.0\n",
      "371       15.0\n",
      "Name: Assessment_Minutes, Length: 372, dtype: object\n"
     ]
    }
   ],
   "source": [
    "\n",
    "df['Assessment_Minutes'] = df['Assessment_Length'].apply(extract_duration)\n",
    "\n",
    "# Replace NaN values with \"No info\"\n",
    "df['Assessment_Minutes'] = df['Assessment_Minutes'].fillna(\"No info\")\n",
    "\n",
    "# Output the resulting DataFrame\n",
    "print(df['Assessment_Minutes'])"
   ]
  },
  {
   "cell_type": "markdown",
   "id": "20806ab6-278a-41ec-a8a0-184834c1d3a1",
   "metadata": {},
   "source": [
    "### making column if short_test : if greater than 30 will give long-test ,if some one mentions short test then will give more priority to them"
   ]
  },
  {
   "cell_type": "code",
   "execution_count": 11,
   "id": "ab83f222-1b9b-4394-9b6c-713906209ecb",
   "metadata": {},
   "outputs": [],
   "source": [
    "df[\"short_test\"] = df[\"Assessment_Minutes\"].apply(\n",
    "    lambda x: \"short test\" if (isinstance(x, int) and x <= 30) or x == \"No info\" else \"long test\"\n",
    ")"
   ]
  },
  {
   "cell_type": "code",
   "execution_count": 12,
   "id": "767fdac1-e657-4b06-bb3c-66e74cf47c13",
   "metadata": {},
   "outputs": [
    {
     "data": {
      "text/html": [
       "<div>\n",
       "<style scoped>\n",
       "    .dataframe tbody tr th:only-of-type {\n",
       "        vertical-align: middle;\n",
       "    }\n",
       "\n",
       "    .dataframe tbody tr th {\n",
       "        vertical-align: top;\n",
       "    }\n",
       "\n",
       "    .dataframe thead th {\n",
       "        text-align: right;\n",
       "    }\n",
       "</style>\n",
       "<table border=\"1\" class=\"dataframe\">\n",
       "  <thead>\n",
       "    <tr style=\"text-align: right;\">\n",
       "      <th></th>\n",
       "      <th>Test_id</th>\n",
       "      <th>Test_Name</th>\n",
       "      <th>Test_Link</th>\n",
       "      <th>Remote_Testing</th>\n",
       "      <th>Adaptive_Testing</th>\n",
       "      <th>Test_Types</th>\n",
       "      <th>Description</th>\n",
       "      <th>Job_Levels</th>\n",
       "      <th>Languages</th>\n",
       "      <th>Assessment_Length</th>\n",
       "      <th>Assessment_Minutes</th>\n",
       "      <th>short_test</th>\n",
       "    </tr>\n",
       "  </thead>\n",
       "  <tbody>\n",
       "    <tr>\n",
       "      <th>0</th>\n",
       "      <td>4302</td>\n",
       "      <td>Global Skills Development Report</td>\n",
       "      <td>https://www.shl.com/solutions/products/product...</td>\n",
       "      <td>YES</td>\n",
       "      <td>NO</td>\n",
       "      <td>Ability &amp; Aptitude, BioData &amp; Situational Judg...</td>\n",
       "      <td>This report is designed to be given to individ...</td>\n",
       "      <td>Director, Entry-Level, Executive, General Popu...</td>\n",
       "      <td>No info</td>\n",
       "      <td>No info</td>\n",
       "      <td>No info</td>\n",
       "      <td>short test</td>\n",
       "    </tr>\n",
       "    <tr>\n",
       "      <th>1</th>\n",
       "      <td>3827</td>\n",
       "      <td>.NET Framework 4.5</td>\n",
       "      <td>https://www.shl.com/solutions/products/product...</td>\n",
       "      <td>YES</td>\n",
       "      <td>YES</td>\n",
       "      <td>Knowledge &amp; Skills</td>\n",
       "      <td>The.NET Framework 4.5 test measures knowledge ...</td>\n",
       "      <td>Professional Individual Contributor, Mid-Profe...</td>\n",
       "      <td>English (USA),</td>\n",
       "      <td>Approximate Completion Time in minutes = 30</td>\n",
       "      <td>30.0</td>\n",
       "      <td>long test</td>\n",
       "    </tr>\n",
       "    <tr>\n",
       "      <th>2</th>\n",
       "      <td>4094</td>\n",
       "      <td>.NET MVC (New)</td>\n",
       "      <td>https://www.shl.com/solutions/products/product...</td>\n",
       "      <td>YES</td>\n",
       "      <td>NO</td>\n",
       "      <td>Knowledge &amp; Skills</td>\n",
       "      <td>Multi-choice test that measures the knowledge ...</td>\n",
       "      <td>Mid-Professional, Professional Individual Cont...</td>\n",
       "      <td>English (USA),</td>\n",
       "      <td>Approximate Completion Time in minutes = 17</td>\n",
       "      <td>17.0</td>\n",
       "      <td>long test</td>\n",
       "    </tr>\n",
       "    <tr>\n",
       "      <th>3</th>\n",
       "      <td>4099</td>\n",
       "      <td>.NET MVVM (New)</td>\n",
       "      <td>https://www.shl.com/solutions/products/product...</td>\n",
       "      <td>YES</td>\n",
       "      <td>NO</td>\n",
       "      <td>Knowledge &amp; Skills</td>\n",
       "      <td>Multi-choice test that measures the knowledge ...</td>\n",
       "      <td>Mid-Professional, Professional Individual Cont...</td>\n",
       "      <td>English (USA),</td>\n",
       "      <td>Approximate Completion Time in minutes = 5</td>\n",
       "      <td>5.0</td>\n",
       "      <td>long test</td>\n",
       "    </tr>\n",
       "    <tr>\n",
       "      <th>4</th>\n",
       "      <td>4018</td>\n",
       "      <td>.NET WCF (New)</td>\n",
       "      <td>https://www.shl.com/solutions/products/product...</td>\n",
       "      <td>YES</td>\n",
       "      <td>NO</td>\n",
       "      <td>Knowledge &amp; Skills</td>\n",
       "      <td>Multi-choice test that measures the knowledge ...</td>\n",
       "      <td>Mid-Professional, Professional Individual Cont...</td>\n",
       "      <td>English (USA),</td>\n",
       "      <td>Approximate Completion Time in minutes = 11</td>\n",
       "      <td>11.0</td>\n",
       "      <td>long test</td>\n",
       "    </tr>\n",
       "  </tbody>\n",
       "</table>\n",
       "</div>"
      ],
      "text/plain": [
       "   Test_id                         Test_Name  \\\n",
       "0     4302  Global Skills Development Report   \n",
       "1     3827                .NET Framework 4.5   \n",
       "2     4094                    .NET MVC (New)   \n",
       "3     4099                   .NET MVVM (New)   \n",
       "4     4018                    .NET WCF (New)   \n",
       "\n",
       "                                           Test_Link Remote_Testing  \\\n",
       "0  https://www.shl.com/solutions/products/product...            YES   \n",
       "1  https://www.shl.com/solutions/products/product...            YES   \n",
       "2  https://www.shl.com/solutions/products/product...            YES   \n",
       "3  https://www.shl.com/solutions/products/product...            YES   \n",
       "4  https://www.shl.com/solutions/products/product...            YES   \n",
       "\n",
       "  Adaptive_Testing                                         Test_Types  \\\n",
       "0               NO  Ability & Aptitude, BioData & Situational Judg...   \n",
       "1              YES                                 Knowledge & Skills   \n",
       "2               NO                                 Knowledge & Skills   \n",
       "3               NO                                 Knowledge & Skills   \n",
       "4               NO                                 Knowledge & Skills   \n",
       "\n",
       "                                         Description  \\\n",
       "0  This report is designed to be given to individ...   \n",
       "1  The.NET Framework 4.5 test measures knowledge ...   \n",
       "2  Multi-choice test that measures the knowledge ...   \n",
       "3  Multi-choice test that measures the knowledge ...   \n",
       "4  Multi-choice test that measures the knowledge ...   \n",
       "\n",
       "                                          Job_Levels       Languages  \\\n",
       "0  Director, Entry-Level, Executive, General Popu...         No info   \n",
       "1  Professional Individual Contributor, Mid-Profe...  English (USA),   \n",
       "2  Mid-Professional, Professional Individual Cont...  English (USA),   \n",
       "3  Mid-Professional, Professional Individual Cont...  English (USA),   \n",
       "4  Mid-Professional, Professional Individual Cont...  English (USA),   \n",
       "\n",
       "                             Assessment_Length Assessment_Minutes  short_test  \n",
       "0                                      No info            No info  short test  \n",
       "1  Approximate Completion Time in minutes = 30               30.0   long test  \n",
       "2  Approximate Completion Time in minutes = 17               17.0   long test  \n",
       "3   Approximate Completion Time in minutes = 5                5.0   long test  \n",
       "4  Approximate Completion Time in minutes = 11               11.0   long test  "
      ]
     },
     "execution_count": 12,
     "metadata": {},
     "output_type": "execute_result"
    }
   ],
   "source": [
    "df.head()"
   ]
  },
  {
   "cell_type": "markdown",
   "id": "db9e2476-0ce4-45f0-9211-6fa371fa683c",
   "metadata": {},
   "source": [
    "## Now lets make the combined column to feed in sentence trasnformer"
   ]
  },
  {
   "cell_type": "code",
   "execution_count": 13,
   "id": "260a116f-ac57-4b55-a346-a05c2b7ada8b",
   "metadata": {},
   "outputs": [],
   "source": [
    "def combine_columns(row):\n",
    "    parts = []\n",
    "\n",
    "    # Always include name and description\n",
    "    parts.append(f\"{row['Test_Name']} - {row['Description']}\")\n",
    "\n",
    "    # Conditionally include test type\n",
    "    if row['Test_Types'] != \"No info\":\n",
    "        parts.append(f\"Test Type: {row['Test_Types']}\")\n",
    "\n",
    "    # Conditionally include job levels\n",
    "    if row['Job_Levels'] != \"No info\":\n",
    "        parts.append(f\"Target Job Levels: {row['Job_Levels']}\")\n",
    "\n",
    "    # Always include assessment length\n",
    "    parts.append(f\"Duration: {row['Assessment_Length']}\")\n",
    "\n",
    "    # Handle the case for Assessment_Minutes\n",
    "    if row['Assessment_Minutes'] != \"No info\":\n",
    "        parts.append(f\"Duration in Minutes: {row['Assessment_Minutes']}\")\n",
    "    else:\n",
    "        parts.append(\"Duration in Minutes: No info\")\n",
    "\n",
    "    # Conditionally include \"Remote Testing\" only if Yes\n",
    "    if row['Remote_Testing'].strip().lower() == \"yes\":\n",
    "        parts.append(\"Supports Remote Testing\")\n",
    "        \n",
    "    ##Add short/long/unknown classification\n",
    "    parts.append(row['short_test'])\n",
    "    \n",
    "    # Conditionally include \"Adaptive Testing\" only if Yes\n",
    "    if row['Adaptive_Testing'].strip().lower() == \"yes\":\n",
    "        parts.append(\"Supports Adaptive Testing\")\n",
    "\n",
    "    # Conditionally include language info\n",
    "    if row['Languages'] != \"No info\":\n",
    "        parts.append(f\"Languages: {row['Languages']}\")\n",
    "\n",
    "    # Join all parts into one string\n",
    "    return \" | \".join(parts)\n"
   ]
  },
  {
   "cell_type": "code",
   "execution_count": 14,
   "id": "91097f0f-2af2-43f8-a3af-bedc97c8842a",
   "metadata": {},
   "outputs": [],
   "source": [
    "df['combined_text'] = df.apply(combine_columns, axis=1)"
   ]
  },
  {
   "cell_type": "code",
   "execution_count": 15,
   "id": "5d08d27b-c34b-4e45-83af-85a65b30bb3c",
   "metadata": {},
   "outputs": [
    {
     "data": {
      "text/html": [
       "<div>\n",
       "<style scoped>\n",
       "    .dataframe tbody tr th:only-of-type {\n",
       "        vertical-align: middle;\n",
       "    }\n",
       "\n",
       "    .dataframe tbody tr th {\n",
       "        vertical-align: top;\n",
       "    }\n",
       "\n",
       "    .dataframe thead th {\n",
       "        text-align: right;\n",
       "    }\n",
       "</style>\n",
       "<table border=\"1\" class=\"dataframe\">\n",
       "  <thead>\n",
       "    <tr style=\"text-align: right;\">\n",
       "      <th></th>\n",
       "      <th>Test_id</th>\n",
       "      <th>Test_Name</th>\n",
       "      <th>Test_Link</th>\n",
       "      <th>Remote_Testing</th>\n",
       "      <th>Adaptive_Testing</th>\n",
       "      <th>Test_Types</th>\n",
       "      <th>Description</th>\n",
       "      <th>Job_Levels</th>\n",
       "      <th>Languages</th>\n",
       "      <th>Assessment_Length</th>\n",
       "      <th>Assessment_Minutes</th>\n",
       "      <th>short_test</th>\n",
       "      <th>combined_text</th>\n",
       "    </tr>\n",
       "  </thead>\n",
       "  <tbody>\n",
       "    <tr>\n",
       "      <th>0</th>\n",
       "      <td>4302</td>\n",
       "      <td>Global Skills Development Report</td>\n",
       "      <td>https://www.shl.com/solutions/products/product...</td>\n",
       "      <td>YES</td>\n",
       "      <td>NO</td>\n",
       "      <td>Ability &amp; Aptitude, BioData &amp; Situational Judg...</td>\n",
       "      <td>This report is designed to be given to individ...</td>\n",
       "      <td>Director, Entry-Level, Executive, General Popu...</td>\n",
       "      <td>No info</td>\n",
       "      <td>No info</td>\n",
       "      <td>No info</td>\n",
       "      <td>short test</td>\n",
       "      <td>Global Skills Development Report - This report...</td>\n",
       "    </tr>\n",
       "    <tr>\n",
       "      <th>1</th>\n",
       "      <td>3827</td>\n",
       "      <td>.NET Framework 4.5</td>\n",
       "      <td>https://www.shl.com/solutions/products/product...</td>\n",
       "      <td>YES</td>\n",
       "      <td>YES</td>\n",
       "      <td>Knowledge &amp; Skills</td>\n",
       "      <td>The.NET Framework 4.5 test measures knowledge ...</td>\n",
       "      <td>Professional Individual Contributor, Mid-Profe...</td>\n",
       "      <td>English (USA),</td>\n",
       "      <td>Approximate Completion Time in minutes = 30</td>\n",
       "      <td>30.0</td>\n",
       "      <td>long test</td>\n",
       "      <td>.NET Framework 4.5 - The.NET Framework 4.5 tes...</td>\n",
       "    </tr>\n",
       "    <tr>\n",
       "      <th>2</th>\n",
       "      <td>4094</td>\n",
       "      <td>.NET MVC (New)</td>\n",
       "      <td>https://www.shl.com/solutions/products/product...</td>\n",
       "      <td>YES</td>\n",
       "      <td>NO</td>\n",
       "      <td>Knowledge &amp; Skills</td>\n",
       "      <td>Multi-choice test that measures the knowledge ...</td>\n",
       "      <td>Mid-Professional, Professional Individual Cont...</td>\n",
       "      <td>English (USA),</td>\n",
       "      <td>Approximate Completion Time in minutes = 17</td>\n",
       "      <td>17.0</td>\n",
       "      <td>long test</td>\n",
       "      <td>.NET MVC (New) - Multi-choice test that measur...</td>\n",
       "    </tr>\n",
       "    <tr>\n",
       "      <th>3</th>\n",
       "      <td>4099</td>\n",
       "      <td>.NET MVVM (New)</td>\n",
       "      <td>https://www.shl.com/solutions/products/product...</td>\n",
       "      <td>YES</td>\n",
       "      <td>NO</td>\n",
       "      <td>Knowledge &amp; Skills</td>\n",
       "      <td>Multi-choice test that measures the knowledge ...</td>\n",
       "      <td>Mid-Professional, Professional Individual Cont...</td>\n",
       "      <td>English (USA),</td>\n",
       "      <td>Approximate Completion Time in minutes = 5</td>\n",
       "      <td>5.0</td>\n",
       "      <td>long test</td>\n",
       "      <td>.NET MVVM (New) - Multi-choice test that measu...</td>\n",
       "    </tr>\n",
       "    <tr>\n",
       "      <th>4</th>\n",
       "      <td>4018</td>\n",
       "      <td>.NET WCF (New)</td>\n",
       "      <td>https://www.shl.com/solutions/products/product...</td>\n",
       "      <td>YES</td>\n",
       "      <td>NO</td>\n",
       "      <td>Knowledge &amp; Skills</td>\n",
       "      <td>Multi-choice test that measures the knowledge ...</td>\n",
       "      <td>Mid-Professional, Professional Individual Cont...</td>\n",
       "      <td>English (USA),</td>\n",
       "      <td>Approximate Completion Time in minutes = 11</td>\n",
       "      <td>11.0</td>\n",
       "      <td>long test</td>\n",
       "      <td>.NET WCF (New) - Multi-choice test that measur...</td>\n",
       "    </tr>\n",
       "  </tbody>\n",
       "</table>\n",
       "</div>"
      ],
      "text/plain": [
       "   Test_id                         Test_Name  \\\n",
       "0     4302  Global Skills Development Report   \n",
       "1     3827                .NET Framework 4.5   \n",
       "2     4094                    .NET MVC (New)   \n",
       "3     4099                   .NET MVVM (New)   \n",
       "4     4018                    .NET WCF (New)   \n",
       "\n",
       "                                           Test_Link Remote_Testing  \\\n",
       "0  https://www.shl.com/solutions/products/product...            YES   \n",
       "1  https://www.shl.com/solutions/products/product...            YES   \n",
       "2  https://www.shl.com/solutions/products/product...            YES   \n",
       "3  https://www.shl.com/solutions/products/product...            YES   \n",
       "4  https://www.shl.com/solutions/products/product...            YES   \n",
       "\n",
       "  Adaptive_Testing                                         Test_Types  \\\n",
       "0               NO  Ability & Aptitude, BioData & Situational Judg...   \n",
       "1              YES                                 Knowledge & Skills   \n",
       "2               NO                                 Knowledge & Skills   \n",
       "3               NO                                 Knowledge & Skills   \n",
       "4               NO                                 Knowledge & Skills   \n",
       "\n",
       "                                         Description  \\\n",
       "0  This report is designed to be given to individ...   \n",
       "1  The.NET Framework 4.5 test measures knowledge ...   \n",
       "2  Multi-choice test that measures the knowledge ...   \n",
       "3  Multi-choice test that measures the knowledge ...   \n",
       "4  Multi-choice test that measures the knowledge ...   \n",
       "\n",
       "                                          Job_Levels       Languages  \\\n",
       "0  Director, Entry-Level, Executive, General Popu...         No info   \n",
       "1  Professional Individual Contributor, Mid-Profe...  English (USA),   \n",
       "2  Mid-Professional, Professional Individual Cont...  English (USA),   \n",
       "3  Mid-Professional, Professional Individual Cont...  English (USA),   \n",
       "4  Mid-Professional, Professional Individual Cont...  English (USA),   \n",
       "\n",
       "                             Assessment_Length Assessment_Minutes  short_test  \\\n",
       "0                                      No info            No info  short test   \n",
       "1  Approximate Completion Time in minutes = 30               30.0   long test   \n",
       "2  Approximate Completion Time in minutes = 17               17.0   long test   \n",
       "3   Approximate Completion Time in minutes = 5                5.0   long test   \n",
       "4  Approximate Completion Time in minutes = 11               11.0   long test   \n",
       "\n",
       "                                       combined_text  \n",
       "0  Global Skills Development Report - This report...  \n",
       "1  .NET Framework 4.5 - The.NET Framework 4.5 tes...  \n",
       "2  .NET MVC (New) - Multi-choice test that measur...  \n",
       "3  .NET MVVM (New) - Multi-choice test that measu...  \n",
       "4  .NET WCF (New) - Multi-choice test that measur...  "
      ]
     },
     "execution_count": 15,
     "metadata": {},
     "output_type": "execute_result"
    }
   ],
   "source": [
    "df.head()"
   ]
  },
  {
   "cell_type": "markdown",
   "id": "cb30f114-2c65-4d2a-a314-e28daf88bf3b",
   "metadata": {},
   "source": [
    "### Generating embeddings using sentence transformer model - all-mpnet-base-v2"
   ]
  },
  {
   "cell_type": "code",
   "execution_count": 16,
   "id": "5f45ccf0-6d7c-40fe-a103-947547ab84ad",
   "metadata": {},
   "outputs": [],
   "source": [
    "from sentence_transformers import SentenceTransformer\n",
    "from sklearn.metrics.pairwise import cosine_similarity\n",
    "\n",
    "# 1. Load a pretrained Sentence Transformer model\n",
    "model = SentenceTransformer(\"all-mpnet-base-v2\")\n"
   ]
  },
  {
   "cell_type": "code",
   "execution_count": 17,
   "id": "f3c11d9a-fc99-4663-801b-96030b2f595b",
   "metadata": {},
   "outputs": [
    {
     "data": {
      "text/plain": [
       "0      Global Skills Development Report - This report...\n",
       "1      .NET Framework 4.5 - The.NET Framework 4.5 tes...\n",
       "2      .NET MVC (New) - Multi-choice test that measur...\n",
       "3      .NET MVVM (New) - Multi-choice test that measu...\n",
       "4      .NET WCF (New) - Multi-choice test that measur...\n",
       "                             ...                        \n",
       "367    Workplace Administration Skills (New) - Multi-...\n",
       "368    Workplace Health and Safety (New) - Multi-choi...\n",
       "369    WriteX - Email Writing (Customer Service) (New...\n",
       "370    WriteX - Email Writing (Managerial) (New) - Op...\n",
       "371    WriteX - Email Writing (Sales) (New) - Open re...\n",
       "Name: combined_text, Length: 372, dtype: object"
      ]
     },
     "execution_count": 17,
     "metadata": {},
     "output_type": "execute_result"
    }
   ],
   "source": [
    "df[\"combined_text\"] "
   ]
  },
  {
   "cell_type": "code",
   "execution_count": 18,
   "id": "21d12bfe-a614-4382-b912-f9752ac8ec5c",
   "metadata": {},
   "outputs": [
    {
     "data": {
      "application/vnd.jupyter.widget-view+json": {
       "model_id": "97869189659841c4b93ccff6023bad47",
       "version_major": 2,
       "version_minor": 0
      },
      "text/plain": [
       "Batches:   0%|          | 0/12 [00:00<?, ?it/s]"
      ]
     },
     "metadata": {},
     "output_type": "display_data"
    },
    {
     "ename": "NameError",
     "evalue": "name 'np' is not defined",
     "output_type": "error",
     "traceback": [
      "\u001b[31m---------------------------------------------------------------------------\u001b[39m",
      "\u001b[31mNameError\u001b[39m                                 Traceback (most recent call last)",
      "\u001b[36mCell\u001b[39m\u001b[36m \u001b[39m\u001b[32mIn[18]\u001b[39m\u001b[32m, line 6\u001b[39m\n\u001b[32m      3\u001b[39m embeddings = model.encode(texts, show_progress_bar=\u001b[38;5;28;01mTrue\u001b[39;00m)\n\u001b[32m      5\u001b[39m \u001b[38;5;66;03m# Convert to numpy array (FAISS requires float32)\u001b[39;00m\n\u001b[32m----> \u001b[39m\u001b[32m6\u001b[39m embedding_matrix = \u001b[43mnp\u001b[49m.array(embeddings).astype(\u001b[33m\"\u001b[39m\u001b[33mfloat32\u001b[39m\u001b[33m\"\u001b[39m)\n\u001b[32m      8\u001b[39m \u001b[38;5;28mprint\u001b[39m(embedding_matrix.shape)  \u001b[38;5;66;03m# Should be (number of rows, 384)\u001b[39;00m\n",
      "\u001b[31mNameError\u001b[39m: name 'np' is not defined"
     ]
    }
   ],
   "source": [
    "# Encode combined_text column\n",
    "texts = df[\"combined_text\"].tolist()\n",
    "embeddings = model.encode(texts, show_progress_bar=True)\n"
   ]
  },
  {
   "cell_type": "code",
   "execution_count": 20,
   "id": "791e17eb-c38e-4363-87a2-6a0990eac002",
   "metadata": {},
   "outputs": [
    {
     "name": "stdout",
     "output_type": "stream",
     "text": [
      "(372, 768)\n"
     ]
    }
   ],
   "source": [
    "import numpy as np\n",
    "# Convert to numpy array (FAISS requires float32)\n",
    "embedding_matrix = np.array(embeddings).astype(\"float32\")\n",
    "\n",
    "print(embedding_matrix.shape)  # Should be (number of rows, 384)"
   ]
  },
  {
   "cell_type": "code",
   "execution_count": 21,
   "id": "260dcece-9baa-4a5d-9afb-f0713028b82f",
   "metadata": {},
   "outputs": [],
   "source": [
    "#Normalize for Cosine Similarity \n",
    "def normalize(vectors):\n",
    "    norms = np.linalg.norm(vectors, axis=1, keepdims=True)\n",
    "    return vectors / norms\n",
    "\n",
    "embedding_matrix = normalize(embedding_matrix)"
   ]
  },
  {
   "cell_type": "markdown",
   "id": "45231b53-8d2e-444f-9e2b-f657e260b28f",
   "metadata": {},
   "source": [
    "### Storing in faiss"
   ]
  },
  {
   "cell_type": "code",
   "execution_count": 22,
   "id": "8d4afd59-cea9-4d0c-a66e-9a73dd43c2e4",
   "metadata": {},
   "outputs": [
    {
     "name": "stdout",
     "output_type": "stream",
     "text": [
      "Index contains 372 vectors\n"
     ]
    }
   ],
   "source": [
    "import faiss\n",
    "# Your embedding_matrix should be a NumPy array of shape (n, 384)\n",
    "dimension = embedding_matrix.shape[1]  # 384 for MiniLM\n",
    "\n",
    "# # We can Create index using L2 (Euclidean) distance or cosine simlarity but doing here with cosine as its better \n",
    "# index = faiss.IndexFlatL2(dimension)\n",
    "index = faiss.IndexFlatIP(dimension)\n",
    "\n",
    "# Add embeddings to the index\n",
    "index.add(embedding_matrix)\n",
    "\n",
    "print(\"Index contains\", index.ntotal, \"vectors\")\n"
   ]
  },
  {
   "cell_type": "code",
   "execution_count": 23,
   "id": "2b2ffe30-06da-42a3-8593-4dc0eea08b31",
   "metadata": {},
   "outputs": [],
   "source": [
    "faiss.write_index(index, \"shl_index.faiss\")\n",
    "df.to_csv(\"shl_final_catalog.csv\", index=False)\n",
    "np.save(\"shl_embeddings.npy\", embedding_matrix)"
   ]
  },
  {
   "cell_type": "code",
   "execution_count": 27,
   "id": "be4dec76-60c4-4dd8-a00d-a94c52b5a3ac",
   "metadata": {},
   "outputs": [],
   "source": [
    "# # This is useful so you don’t have to recompute embeddings every time.\n",
    "# #later, reload with:\n",
    "\n",
    "# index = faiss.read_index(\"shl_index.faiss\")\n",
    "# df = pd.read_csv(\"shl_final_catalog.csv\")\n",
    "# embedding_matrix = np.load(\"shl_embeddings.npy\")"
   ]
  },
  {
   "cell_type": "code",
   "execution_count": 26,
   "id": "ad7ef44a-b212-4120-9c3d-7f9308f73764",
   "metadata": {},
   "outputs": [
    {
     "name": "stdout",
     "output_type": "stream",
     "text": [
      "Test_Name                                 Interpersonal Communications\n",
      "Assessment_Length    Approximate Completion Time in minutes = 15 to 35\n",
      "Test_Types                                          Knowledge & Skills\n",
      "Remote_Testing                                                     YES\n",
      "Test_Link            https://www.shl.com/solutions/products/product...\n",
      "Description          This adaptive test measures the candidate's kn...\n",
      "Name: 145, dtype: object\n",
      "------------------------------------------------------------\n",
      "Test_Name                                      Business Communications\n",
      "Assessment_Length          Approximate Completion Time in minutes = 35\n",
      "Test_Types                                          Knowledge & Skills\n",
      "Remote_Testing                                                     YES\n",
      "Test_Link            https://www.shl.com/solutions/products/product...\n",
      "Description          This test measures the candidate's knowledge o...\n",
      "Name: 50, dtype: object\n",
      "------------------------------------------------------------\n",
      "Test_Name                             Enterprise Leadership Report 1.0\n",
      "Assessment_Length                                              No info\n",
      "Test_Types                                     Personality & Behaviour\n",
      "Remote_Testing                                                     YES\n",
      "Test_Link            https://www.shl.com/solutions/products/product...\n",
      "Description          Assess and benchmark your leaders against ente...\n",
      "Name: 97, dtype: object\n",
      "------------------------------------------------------------\n",
      "Test_Name                             Enterprise Leadership Report 2.0\n",
      "Assessment_Length                                              No info\n",
      "Test_Types                                     Personality & Behaviour\n",
      "Remote_Testing                                                     YES\n",
      "Test_Link            https://www.shl.com/solutions/products/product...\n",
      "Description          Assess and benchmark your leaders against ente...\n",
      "Name: 98, dtype: object\n",
      "------------------------------------------------------------\n",
      "Test_Name                            Business Communication (adaptive)\n",
      "Assessment_Length          Approximate Completion Time in minutes = 24\n",
      "Test_Types                                          Knowledge & Skills\n",
      "Remote_Testing                                                     YES\n",
      "Test_Link            https://www.shl.com/solutions/products/product...\n",
      "Description          This is an adaptive test that measures knowled...\n",
      "Name: 49, dtype: object\n",
      "------------------------------------------------------------\n",
      "Test_Name                        Workplace Administration Skills (New)\n",
      "Assessment_Length          Approximate Completion Time in minutes = 12\n",
      "Test_Types                                          Knowledge & Skills\n",
      "Remote_Testing                                                     YES\n",
      "Test_Link            https://www.shl.com/solutions/products/product...\n",
      "Description          Multi-choice test that measures the ability to...\n",
      "Name: 367, dtype: object\n",
      "------------------------------------------------------------\n",
      "Test_Name                  Assessment and Development Center Exercises\n",
      "Assessment_Length    Approximate Completion Time in minutes = Variable\n",
      "Test_Types                                        Assessment Exercises\n",
      "Remote_Testing                                                     YES\n",
      "Test_Link            https://www.shl.com/solutions/products/product...\n",
      "Description          SHL offers a comprehensive range of Assessment...\n",
      "Name: 32, dtype: object\n",
      "------------------------------------------------------------\n",
      "Test_Name                                        Human Resources (New)\n",
      "Assessment_Length           Approximate Completion Time in minutes = 8\n",
      "Test_Types                                          Knowledge & Skills\n",
      "Remote_Testing                                                     YES\n",
      "Test_Link            https://www.shl.com/solutions/products/product...\n",
      "Description          Multi-choice test that measures the candidate ...\n",
      "Name: 138, dtype: object\n",
      "------------------------------------------------------------\n",
      "Test_Name                                Front Office Management (New)\n",
      "Assessment_Length           Approximate Completion Time in minutes = 7\n",
      "Test_Types                                          Knowledge & Skills\n",
      "Remote_Testing                                                     YES\n",
      "Test_Link            https://www.shl.com/solutions/products/product...\n",
      "Description          Multi-choice test that measures the knowledge ...\n",
      "Name: 119, dtype: object\n",
      "------------------------------------------------------------\n",
      "Test_Name                                        OPQ Leadership Report\n",
      "Assessment_Length                                              No info\n",
      "Test_Types                                     Personality & Behaviour\n",
      "Remote_Testing                                                     YES\n",
      "Test_Link            https://www.shl.com/solutions/products/product...\n",
      "Description          This OPQ (Occupational Personality Questionnai...\n",
      "Name: 221, dtype: object\n",
      "------------------------------------------------------------\n"
     ]
    }
   ],
   "source": [
    "query = \"Looking for a short test on leadership and communication for entry-level roles\"\n",
    "query_vector = model.encode([query]).astype(\"float32\")\n",
    "\n",
    "top_k = 10\n",
    "distances, indices = index.search(query_vector, top_k)\n",
    "\n",
    "# Show top 10 recommended tests\n",
    "for idx in indices[0]:\n",
    "    print(df.iloc[idx][[\"Test_Name\", \"Assessment_Length\", \"Test_Types\", \"Remote_Testing\", \"Test_Link\",\"Description\"]])\n",
    "    print(\"-\" * 60)\n"
   ]
  },
  {
   "cell_type": "code",
   "execution_count": 36,
   "id": "f691d201-eaa9-44eb-9eb8-937b36b9c021",
   "metadata": {},
   "outputs": [
    {
     "name": "stdout",
     "output_type": "stream",
     "text": [
      "405\n",
      "{\"detail\":\"Method Not Allowed\"}\n"
     ]
    }
   ],
   "source": [
    "#testing the recommend endpoint\n",
    "\n",
    "import requests\n",
    "\n",
    "url = \"https://shl-fastapi-uf7r.onrender.com/health-checkup\"\n",
    "data = {\"query\": \"Looking for an assessment for a leadership role with remote testing\"}\n",
    "\n",
    "response = requests.post(url, json=data)\n",
    "\n",
    "# Print the response\n",
    "print(response.status_code)  # Check the status code\n",
    "print(response.text)  # Print the raw response text\n",
    "\n"
   ]
  },
  {
   "cell_type": "code",
   "execution_count": null,
   "id": "721f26b8-7ad8-47d5-8ac5-3d91e771040e",
   "metadata": {},
   "outputs": [],
   "source": []
  }
 ],
 "metadata": {
  "kernelspec": {
   "display_name": "Python 3 (ipykernel)",
   "language": "python",
   "name": "python3"
  },
  "language_info": {
   "codemirror_mode": {
    "name": "ipython",
    "version": 3
   },
   "file_extension": ".py",
   "mimetype": "text/x-python",
   "name": "python",
   "nbconvert_exporter": "python",
   "pygments_lexer": "ipython3",
   "version": "3.11.11"
  }
 },
 "nbformat": 4,
 "nbformat_minor": 5
}
