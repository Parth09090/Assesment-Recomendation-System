{
 "cells": [
  {
   "cell_type": "code",
   "execution_count": 9,
   "id": "128ff657-9456-4b33-a9b2-c0f69c63caf0",
   "metadata": {},
   "outputs": [
    {
     "name": "stdout",
     "output_type": "stream",
     "text": [
      "Overwriting app.py\n"
     ]
    }
   ],
   "source": [
    "%%writefile app.py\n",
    "import streamlit as st\n",
    "import requests\n",
    "import pandas as pd\n",
    "\n",
    "# FastAPI endpoint\n",
    "API_URL = \"https://shl-fastapi-uf7r.onrender.com/recommend\"\n",
    "\n",
    "# Page setup\n",
    "st.set_page_config(page_title=\" SHL Assessment Recommender\", layout=\"wide\")\n",
    "st.markdown(\"##  SHL Assessment Recommender\")\n",
    "\n",
    "# Input area\n",
    "user_query = st.text_area(\"📝 Enter Job Description or Query:\", height=200, placeholder=\"e.g. We need a data analyst with strong numerical reasoning and Python skills...\")\n",
    "\n",
    "# Recommend button\n",
    "if st.button(\"Recommend Tests\"):\n",
    "    if user_query.strip() == \"\":\n",
    "        st.warning(\"Please enter a valid query.\")\n",
    "    else:\n",
    "        with st.spinner(\"Generating smart recommendations...\"):\n",
    "            try:\n",
    "                response = requests.post(API_URL, json={\"query\": user_query})\n",
    "                if response.status_code == 200:\n",
    "                    data = response.json()\n",
    "                    recommendations = data.get(\"recommendations\", [])\n",
    "\n",
    "                    if recommendations:\n",
    "                        st.success(f\"✅ Found {len(recommendations)} suitable assessments\")\n",
    "\n",
    "                        # Convert to DataFrame\n",
    "                        df = pd.DataFrame(recommendations)\n",
    "\n",
    "                        # Enhance columns\n",
    "                        df[\"Test Name\"] = df.apply(lambda row: f\"[{row['name']}]({row['url']})\", axis=1)\n",
    "                        df[\"Remote\"] = df[\"remote_testing\"].apply(lambda x: \"✅ Yes\" if str(x).lower() == \"yes\" else \"❌ No\")\n",
    "                        df[\"Adaptive\"] = df[\"adaptive\"].apply(lambda x: \"✅ Yes\" if str(x).lower() == \"yes\" else \"❌ No\")\n",
    "\n",
    "                        # Reorder and rename\n",
    "                        df = df[[\"Test Name\", \"test_type\", \"duration\", \"Remote\", \"Adaptive\"]]\n",
    "                        df.columns = [\"Test Name\", \"Type\", \"⏱️ Duration\", \"Remote\", \"Adaptive\"]\n",
    "\n",
    "                        # Display with markdown rendering\n",
    "                        st.markdown(df.to_markdown(index=False), unsafe_allow_html=True)\n",
    "\n",
    "                    else:\n",
    "                        st.info(\"No matching assessments found.\")\n",
    "                else:\n",
    "                    st.error(\"API returned an error.\")\n",
    "            except Exception as e:\n",
    "                st.error(f\"🚨 Request failed: {e}\")\n"
   ]
  },
  {
   "cell_type": "code",
   "execution_count": null,
   "id": "7a74c6d6-3fab-4217-a0fb-f84bb395ef7d",
   "metadata": {},
   "outputs": [],
   "source": []
  }
 ],
 "metadata": {
  "kernelspec": {
   "display_name": "Python 3 (ipykernel)",
   "language": "python",
   "name": "python3"
  },
  "language_info": {
   "codemirror_mode": {
    "name": "ipython",
    "version": 3
   },
   "file_extension": ".py",
   "mimetype": "text/x-python",
   "name": "python",
   "nbconvert_exporter": "python",
   "pygments_lexer": "ipython3",
   "version": "3.11.11"
  }
 },
 "nbformat": 4,
 "nbformat_minor": 5
}
